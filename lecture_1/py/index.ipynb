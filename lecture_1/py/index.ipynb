{
 "cells": [
  {
   "cell_type": "code",
   "execution_count": 91,
   "metadata": {},
   "outputs": [],
   "source": [
    "import struct\n",
    "from typing import NamedTuple, Union\n",
    "from pprint import pprint as p\n",
    "from solana.rpc.api import Client\n",
    "from solana.keypair import Keypair\n",
    "from solana.publickey import PublicKey \n",
    "from solana.system_program import *\n",
    "from solana.transaction import Transaction, AccountMeta\n",
    "from base58 import b58encode, b58decode as b58d\n",
    "from base64 import b64decode as b64d\n",
    "b58e = lambda x: b58encode(x).decode('ascii')"
   ]
  },
  {
   "cell_type": "code",
   "execution_count": 73,
   "metadata": {},
   "outputs": [],
   "source": [
    "uri = \"http://api.devnet.solana.com\"\n",
    "connection = Client(uri)"
   ]
  },
  {
   "cell_type": "code",
   "execution_count": 99,
   "metadata": {},
   "outputs": [],
   "source": [
    "programId = PublicKey('5M42zg2HPFCcQVy6k85qieEAYzvzJ74wkv6q69Zx9X2J')"
   ]
  },
  {
   "cell_type": "code",
   "execution_count": 102,
   "metadata": {},
   "outputs": [
    {
     "name": "stdout",
     "output_type": "stream",
     "text": [
      "5M42zg2HPFCcQVy6k85qieEAYzvzJ74wkv6q69Zx9X2J\n"
     ]
    }
   ],
   "source": [
    "p(programId)"
   ]
  },
  {
   "cell_type": "code",
   "execution_count": 38,
   "metadata": {},
   "outputs": [],
   "source": [
    "feePayer = Keypair()"
   ]
  },
  {
   "cell_type": "code",
   "execution_count": 39,
   "metadata": {},
   "outputs": [
    {
     "name": "stdout",
     "output_type": "stream",
     "text": [
      "A9nJzfZz6zAGUJPuqDLSQS9RFRngsASiSbebe8HsiGbL\n"
     ]
    }
   ],
   "source": [
    "p(feePayer.public_key)"
   ]
  },
  {
   "cell_type": "code",
   "execution_count": 41,
   "metadata": {},
   "outputs": [
    {
     "data": {
      "text/plain": [
       "{'jsonrpc': '2.0',\n",
       " 'result': '4a8LrPTepyF66BDQbS8zeWkKFk5cKiZJgaAEdH768qZodcBpmvFZyzBwx4yRgPHxKM1cLecvvvuoBymBPhqdx8KX',\n",
       " 'id': 13}"
      ]
     },
     "execution_count": 41,
     "metadata": {},
     "output_type": "execute_result"
    }
   ],
   "source": [
    "p('Requesting airdrop of 1 SOL')\n",
    "connection.request_airdrop(pubkey = feePayer.public_key, lamports = 10**9)\n",
    "p('Airdrop received')"
   ]
  },
  {
   "cell_type": "code",
   "execution_count": 42,
   "metadata": {},
   "outputs": [],
   "source": [
    "counter = Keypair()"
   ]
  },
  {
   "cell_type": "code",
   "execution_count": 43,
   "metadata": {},
   "outputs": [
    {
     "name": "stdout",
     "output_type": "stream",
     "text": [
      "2YAxrUwZSxi6Qh5eV6m6q75EmduAGM7haHUxgsu3GRZR\n"
     ]
    }
   ],
   "source": [
    "p(counter.public_key)"
   ]
  },
  {
   "cell_type": "code",
   "execution_count": 44,
   "metadata": {},
   "outputs": [],
   "source": [
    "counterKey = counter.public_key"
   ]
  },
  {
   "cell_type": "code",
   "execution_count": 110,
   "metadata": {},
   "outputs": [],
   "source": [
    "tx = Transaction()"
   ]
  },
  {
   "cell_type": "code",
   "execution_count": 53,
   "metadata": {},
   "outputs": [],
   "source": [
    "signers = [feePayer]"
   ]
  },
  {
   "cell_type": "code",
   "execution_count": 111,
   "metadata": {},
   "outputs": [
    {
     "name": "stdout",
     "output_type": "stream",
     "text": [
      "'Generating new counter address'\n"
     ]
    }
   ],
   "source": [
    "p('Generating new counter address')\n",
    "\n",
    "# >>> instruction = create_account(\n",
    "#         ...     CreateAccountParams(\n",
    "#         ...         from_pubkey=from_account, new_account_pubkey=new_account,\n",
    "#         ...         lamports=1, space=1, program_id=program_id)\n",
    "#         ... )\n",
    "\n",
    "instruction = create_account(CreateAccountParams(\n",
    "    from_pubkey=feePayer.public_key,\n",
    "    new_account_pubkey=counterKey,\n",
    "    lamports=100000,\n",
    "    space=8,\n",
    "    program_id=programId\n",
    "    )\n",
    ")"
   ]
  },
  {
   "cell_type": "code",
   "execution_count": 55,
   "metadata": {},
   "outputs": [],
   "source": [
    "signers.append(counter)"
   ]
  },
  {
   "cell_type": "code",
   "execution_count": 112,
   "metadata": {},
   "outputs": [
    {
     "data": {
      "text/plain": [
       "<solana.transaction.Transaction at 0x7fe82d49abb0>"
      ]
     },
     "execution_count": 112,
     "metadata": {},
     "output_type": "execute_result"
    }
   ],
   "source": [
    "tx.add(instruction)"
   ]
  },
  {
   "cell_type": "code",
   "execution_count": null,
   "metadata": {},
   "outputs": [],
   "source": [
    "incrIx = TransactionInstruction(\n",
    "    keys=[\n",
    "        {\n",
    "            \n",
    "        }\n",
    "    ]\n",
    ")"
   ]
  }
 ],
 "metadata": {
  "interpreter": {
   "hash": "c36e5974b4e84b1a7cfb30f2d163ff0b1625555cdff5baed550a7540ae39ba26"
  },
  "kernelspec": {
   "display_name": "Python 3.9.5 ('base')",
   "language": "python",
   "name": "python3"
  },
  "language_info": {
   "codemirror_mode": {
    "name": "ipython",
    "version": 3
   },
   "file_extension": ".py",
   "mimetype": "text/x-python",
   "name": "python",
   "nbconvert_exporter": "python",
   "pygments_lexer": "ipython3",
   "version": "3.9.5"
  },
  "orig_nbformat": 4
 },
 "nbformat": 4,
 "nbformat_minor": 2
}
