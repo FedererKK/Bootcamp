{
 "cells": [
  {
   "cell_type": "code",
   "execution_count": 8,
   "id": "be949889-95ce-48f8-8b46-cff1a49a13db",
   "metadata": {},
   "outputs": [
    {
     "name": "stdout",
     "output_type": "stream",
     "text": [
      "Collecting pprintpp\n",
      "  Downloading pprintpp-0.4.0-py2.py3-none-any.whl (16 kB)\n",
      "Installing collected packages: pprintpp\n",
      "Successfully installed pprintpp-0.4.0\n"
     ]
    }
   ],
   "source": [
    "!pip install pprintpp"
   ]
  },
  {
   "cell_type": "code",
   "execution_count": 14,
   "id": "ae2f4d61-5815-4dfb-ac29-383298aed092",
   "metadata": {},
   "outputs": [],
   "source": [
    "from pprint import pprint as p\n",
    "import struct\n",
    "from solana.rpc.api import Client\n",
    "from solana.publickey import PublicKey\n",
    "from solana.transaction import Transaction, AccountMeta\n",
    "from base58 import b58encode, b58decode as b58d\n",
    "from base64 import b64decode as b64d\n",
    "\n",
    "b58 = lambda x: b58encode(x).decode('ascii')"
   ]
  },
  {
   "cell_type": "code",
   "execution_count": 15,
   "id": "d1085519-c547-42e3-b15b-83ab88442455",
   "metadata": {},
   "outputs": [],
   "source": [
    "uri = \"http://api.mainnet-beta.solana.com\""
   ]
  },
  {
   "cell_type": "code",
   "execution_count": 16,
   "id": "5803e3d4-55d0-4c3d-a7c8-32a886b98c2f",
   "metadata": {},
   "outputs": [],
   "source": [
    "client = Client(uri)"
   ]
  },
  {
   "cell_type": "code",
   "execution_count": 23,
   "id": "6c1750fc-7ee6-43dd-8abb-b7c13576c7d4",
   "metadata": {},
   "outputs": [],
   "source": [
    "usdc = 'EPjFWdd5AufqSSqeM2qN1xzybapC8G4wEGGkZwyTDt1v'\n",
    "ai = client.get_account_info(usdc)"
   ]
  },
  {
   "cell_type": "code",
   "execution_count": 24,
   "id": "d5e458dd-84c4-484b-b403-81443c5000e3",
   "metadata": {},
   "outputs": [
    {
     "name": "stdout",
     "output_type": "stream",
     "text": [
      "{'id': 4,\n",
      " 'jsonrpc': '2.0',\n",
      " 'result': {'context': {'apiVersion': '1.10.24', 'slot': 136941357},\n",
      "            'value': {'data': ['AQAAABzjWe1aAS4E+hQrnHUaHF6Hz9CgFhuchf/TG3jN/Nj2yi5QN07jEQAGAQEAAAAqnl7btTwEZ5CY/3sSZRcUQ0/AjFYqmjuGEQXmctQicw==',\n",
      "                               'base64'],\n",
      "                      'executable': False,\n",
      "                      'lamports': 122456825965,\n",
      "                      'owner': 'TokenkegQfeZyiNwAJbNbGKPFXCWuBvf9Ss623VQ5DA',\n",
      "                      'rentEpoch': 316}}}\n"
     ]
    }
   ],
   "source": [
    "p(ai)"
   ]
  },
  {
   "cell_type": "code",
   "execution_count": 26,
   "id": "bb8fa4b0-65f8-4830-a1a6-0c37c2baa34b",
   "metadata": {},
   "outputs": [
    {
     "name": "stdout",
     "output_type": "stream",
     "text": [
      "'AQAAABzjWe1aAS4E+hQrnHUaHF6Hz9CgFhuchf/TG3jN/Nj2yi5QN07jEQAGAQEAAAAqnl7btTwEZ5CY/3sSZRcUQ0/AjFYqmjuGEQXmctQicw=='\n"
     ]
    }
   ],
   "source": [
    "account_data = ai['result']['value']['data'][0]\n",
    "p(account_data)"
   ]
  },
  {
   "cell_type": "code",
   "execution_count": 29,
   "id": "380a85cd-b3f9-44f0-8f5a-7bda681bbf99",
   "metadata": {},
   "outputs": [],
   "source": [
    "data = b64d(account_data)"
   ]
  },
  {
   "cell_type": "code",
   "execution_count": 30,
   "id": "ba3b975c-50cb-4d8d-b59e-aa805f56fd07",
   "metadata": {},
   "outputs": [],
   "source": [
    "from spl.token._layouts import MINT_LAYOUT"
   ]
  },
  {
   "cell_type": "code",
   "execution_count": 33,
   "id": "81d753df-df02-4c48-a600-a48d76f370c7",
   "metadata": {},
   "outputs": [
    {
     "data": {
      "text/plain": [
       "1"
      ]
     },
     "execution_count": 33,
     "metadata": {},
     "output_type": "execute_result"
    }
   ],
   "source": [
    "mint_authority_option = struct.unpack(\"<I\", data[0:4])[0]\n",
    "mint_authority_option"
   ]
  },
  {
   "cell_type": "code",
   "execution_count": 40,
   "id": "68e650dd-0240-4874-b7fd-7cdc9c0a07aa",
   "metadata": {},
   "outputs": [
    {
     "data": {
      "text/plain": [
       "b'2wmVCSfPxGPjrnMMn7rchp4uaeoTqN39mXFC2zhPdri9'"
      ]
     },
     "execution_count": 40,
     "metadata": {},
     "output_type": "execute_result"
    }
   ],
   "source": [
    "mint_authority = struct.unpack(\"<32s\", data[4:36])[0]\n",
    "b58encode(mint_authority)"
   ]
  },
  {
   "cell_type": "code",
   "execution_count": 45,
   "id": "8efc11ab-57ad-44d5-9970-8f082ebbf5b8",
   "metadata": {},
   "outputs": [
    {
     "data": {
      "text/plain": [
       "5034999679037130"
      ]
     },
     "execution_count": 45,
     "metadata": {},
     "output_type": "execute_result"
    }
   ],
   "source": [
    "supply = struct.unpack(\"<Q\", data[36:44])[0]\n",
    "supply"
   ]
  },
  {
   "cell_type": "code",
   "execution_count": 48,
   "id": "4c3c48a9-c3cb-42d6-bbed-d7abc678afb9",
   "metadata": {},
   "outputs": [
    {
     "data": {
      "text/plain": [
       "6"
      ]
     },
     "execution_count": 48,
     "metadata": {},
     "output_type": "execute_result"
    }
   ],
   "source": [
    "decimals = struct.unpack(\"<B\", data[44:45])[0]\n",
    "decimals"
   ]
  },
  {
   "cell_type": "code",
   "execution_count": 49,
   "id": "3cc351c8-203b-410a-99db-80750d2718ff",
   "metadata": {},
   "outputs": [
    {
     "data": {
      "text/plain": [
       "5034999679.037129"
      ]
     },
     "execution_count": 49,
     "metadata": {},
     "output_type": "execute_result"
    }
   ],
   "source": [
    "supply * 10 ** (-decimals)"
   ]
  }
 ],
 "metadata": {
  "kernelspec": {
   "display_name": "Python 3",
   "language": "python",
   "name": "python3"
  },
  "language_info": {
   "codemirror_mode": {
    "name": "ipython",
    "version": 3
   },
   "file_extension": ".py",
   "mimetype": "text/x-python",
   "name": "python",
   "nbconvert_exporter": "python",
   "pygments_lexer": "ipython3",
   "version": "3.9.5"
  }
 },
 "nbformat": 4,
 "nbformat_minor": 5
}
