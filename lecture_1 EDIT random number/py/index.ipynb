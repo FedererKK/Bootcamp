{
 "cells": [
  {
   "cell_type": "code",
   "execution_count": 445,
   "metadata": {},
   "outputs": [],
   "source": [
    "import struct\n",
    "from spl.token.constants import TOKEN_PROGRAM_ID\n",
    "from typing import NamedTuple, Union\n",
    "from pprint import pprint as p\n",
    "from solana.rpc.api import Client\n",
    "from solana.rpc.types import TxOpts\n",
    "from solana.keypair import Keypair\n",
    "from solana.publickey import PublicKey \n",
    "from solana.system_program import SYS_PROGRAM_ID\n",
    "from solana.system_program import transfer, TransferParams, create_account\n",
    "from solana.transaction import Transaction, AccountMeta\n",
    "from base58 import b58encode, b58decode as b58d\n",
    "from base64 import b64decode as b64d\n",
    "b58e = lambda x: b58encode(x).decode('ascii')"
   ]
  },
  {
   "cell_type": "code",
   "execution_count": 446,
   "metadata": {},
   "outputs": [],
   "source": [
    "uri = \"http://api.devnet.solana.com\"\n",
    "connection = Client(uri)"
   ]
  },
  {
   "cell_type": "code",
   "execution_count": 447,
   "metadata": {},
   "outputs": [],
   "source": [
    "programId = PublicKey('5M42zg2HPFCcQVy6k85qieEAYzvzJ74wkv6q69Zx9X2J')"
   ]
  },
  {
   "cell_type": "code",
   "execution_count": 448,
   "metadata": {},
   "outputs": [
    {
     "data": {
      "text/plain": [
       "solana.publickey.PublicKey"
      ]
     },
     "execution_count": 448,
     "metadata": {},
     "output_type": "execute_result"
    }
   ],
   "source": [
    "type(programId)"
   ]
  },
  {
   "cell_type": "code",
   "execution_count": 449,
   "metadata": {},
   "outputs": [
    {
     "data": {
      "text/plain": [
       "solana.publickey.PublicKey"
      ]
     },
     "execution_count": 449,
     "metadata": {},
     "output_type": "execute_result"
    }
   ],
   "source": [
    "type(feePayer.public_key)"
   ]
  },
  {
   "cell_type": "code",
   "execution_count": 450,
   "metadata": {},
   "outputs": [],
   "source": [
    "feePayer = Keypair()"
   ]
  },
  {
   "cell_type": "code",
   "execution_count": 451,
   "metadata": {},
   "outputs": [
    {
     "name": "stdout",
     "output_type": "stream",
     "text": [
      "8YQ7zrcqnYL3ZKaxQU2dUwmf5xBWw7cEvUx2NCeyYgKc\n",
      "'Requesting airdrop of 1 SOL'\n",
      "'Airdrop received'\n"
     ]
    }
   ],
   "source": [
    "p(feePayer.public_key)\n",
    "p('Requesting airdrop of 1 SOL')\n",
    "connection.request_airdrop(pubkey = feePayer.public_key, lamports = 10**9)\n",
    "p('Airdrop received')"
   ]
  },
  {
   "cell_type": "code",
   "execution_count": 452,
   "metadata": {},
   "outputs": [
    {
     "name": "stdout",
     "output_type": "stream",
     "text": [
      "'Generating new counter address'\n",
      "CKjnZjVz2KgYJ7wNUG3zYHhUeyGQAkKTdKEgURwyy2SL\n"
     ]
    }
   ],
   "source": [
    "p('Generating new counter address')\n",
    "counter = Keypair()\n",
    "p(counter.public_key)\n",
    "counterKey = counter.public_key"
   ]
  },
  {
   "cell_type": "code",
   "execution_count": 453,
   "metadata": {},
   "outputs": [
    {
     "data": {
      "text/plain": [
       "[<solana.keypair.Keypair at 0x7fe82d2fcc70>]"
      ]
     },
     "execution_count": 453,
     "metadata": {},
     "output_type": "execute_result"
    }
   ],
   "source": [
    "signers = [feePayer]\n",
    "signers"
   ]
  },
  {
   "cell_type": "code",
   "execution_count": 454,
   "metadata": {},
   "outputs": [
    {
     "data": {
      "text/plain": [
       "{'jsonrpc': '2.0', 'result': 946560, 'id': 2}"
      ]
     },
     "execution_count": 454,
     "metadata": {},
     "output_type": "execute_result"
    }
   ],
   "source": [
    "connection.get_minimum_balance_for_rent_exemption(8)"
   ]
  },
  {
   "cell_type": "code",
   "execution_count": 455,
   "metadata": {},
   "outputs": [
    {
     "data": {
      "text/plain": [
       "<solana.transaction.Transaction at 0x7fe82d4371c0>"
      ]
     },
     "execution_count": 455,
     "metadata": {},
     "output_type": "execute_result"
    }
   ],
   "source": [
    "tx = Transaction().add(\n",
    "    create_account(CreateAccountParams(\n",
    "        from_pubkey=feePayer.public_key,\n",
    "        new_account_pubkey=counter.public_key,\n",
    "        lamports=946560,\n",
    "        space=8,\n",
    "        program_id=programId\n",
    "    ))\n",
    ")\n",
    "\n",
    "tx"
   ]
  },
  {
   "cell_type": "code",
   "execution_count": 456,
   "metadata": {},
   "outputs": [
    {
     "data": {
      "text/plain": [
       "[<solana.keypair.Keypair at 0x7fe82d2fcc70>,\n",
       " <solana.keypair.Keypair at 0x7fe82d34cee0>]"
      ]
     },
     "execution_count": 456,
     "metadata": {},
     "output_type": "execute_result"
    }
   ],
   "source": [
    "signers.append(counter)\n",
    "signers"
   ]
  },
  {
   "cell_type": "code",
   "execution_count": 457,
   "metadata": {},
   "outputs": [],
   "source": [
    "# send_to = PublicKey('HC4brYQxH8Vv6mKpMWqnuV9vygkPS89Qwg95SDaaLrWP')\n",
    "\n",
    "# tx = Transaction().add(\n",
    "#     transfer(\n",
    "#         TransferParams(\n",
    "#             from_pubkey=feePayer.public_key, \n",
    "#             to_pubkey=counter.public_key, \n",
    "#             lamports=10000\n",
    "#                     )\n",
    "#             )\n",
    "#             )\n",
    "# \n",
    "# p(tx)"
   ]
  },
  {
   "cell_type": "code",
   "execution_count": 458,
   "metadata": {},
   "outputs": [],
   "source": [
    "# txid = connection.send_transaction(\n",
    "#     tx,\n",
    "#     feePayer,\n",
    "#     counter\n",
    "# )\n",
    "# \n",
    "# txid"
   ]
  },
  {
   "cell_type": "code",
   "execution_count": 459,
   "metadata": {},
   "outputs": [
    {
     "data": {
      "text/plain": [
       "bytearray(b'\\x00')"
      ]
     },
     "execution_count": 459,
     "metadata": {},
     "output_type": "execute_result"
    }
   ],
   "source": [
    "idx = bytearray([0])\n",
    "# idx = bytes([0])\n",
    "idx"
   ]
  },
  {
   "cell_type": "code",
   "execution_count": 460,
   "metadata": {},
   "outputs": [],
   "source": [
    "incrIx = TransactionInstruction(\n",
    "        keys = [AccountMeta(\n",
    "                pubkey= counterKey, is_signer = False, is_writable= True\n",
    "                )],\n",
    "        program_id=programId,\n",
    "        data=idx\n",
    ")"
   ]
  },
  {
   "cell_type": "code",
   "execution_count": 461,
   "metadata": {},
   "outputs": [
    {
     "data": {
      "text/plain": [
       "<solana.transaction.Transaction at 0x7fe82d4371c0>"
      ]
     },
     "execution_count": 461,
     "metadata": {},
     "output_type": "execute_result"
    }
   ],
   "source": [
    "tx.add(incrIx)"
   ]
  },
  {
   "cell_type": "code",
   "execution_count": 462,
   "metadata": {},
   "outputs": [
    {
     "data": {
      "text/plain": [
       "[TransactionInstruction(keys=[AccountMeta(pubkey=8YQ7zrcqnYL3ZKaxQU2dUwmf5xBWw7cEvUx2NCeyYgKc, is_signer=True, is_writable=True), AccountMeta(pubkey=CKjnZjVz2KgYJ7wNUG3zYHhUeyGQAkKTdKEgURwyy2SL, is_signer=True, is_writable=True)], program_id=11111111111111111111111111111111, data=b\"\\x00\\x00\\x00\\x00\\x80q\\x0e\\x00\\x00\\x00\\x00\\x00\\x08\\x00\\x00\\x00\\x00\\x00\\x00\\x00@\\x91\\xcb}\\x17\\xeb \\x80\\x11\\x14\\x13\\x98'\\xaa\\xf8]\\x02!\\xb3RR\\xff=\\x8b\\xca\\xec\\xe0Z'\\x94B\\xb3\"),\n",
       " TransactionInstruction(keys=[AccountMeta(pubkey=CKjnZjVz2KgYJ7wNUG3zYHhUeyGQAkKTdKEgURwyy2SL, is_signer=False, is_writable=True)], program_id=5M42zg2HPFCcQVy6k85qieEAYzvzJ74wkv6q69Zx9X2J, data=bytearray(b'\\x00'))]"
      ]
     },
     "execution_count": 462,
     "metadata": {},
     "output_type": "execute_result"
    }
   ],
   "source": [
    "tx.instructions"
   ]
  },
  {
   "cell_type": "code",
   "execution_count": 463,
   "metadata": {},
   "outputs": [
    {
     "name": "stdout",
     "output_type": "stream",
     "text": [
      "8YQ7zrcqnYL3ZKaxQU2dUwmf5xBWw7cEvUx2NCeyYgKc\n",
      "CKjnZjVz2KgYJ7wNUG3zYHhUeyGQAkKTdKEgURwyy2SL\n"
     ]
    }
   ],
   "source": [
    "for item in signers:\n",
    "    p(item.public_key)"
   ]
  },
  {
   "cell_type": "code",
   "execution_count": 466,
   "metadata": {},
   "outputs": [
    {
     "data": {
      "text/plain": [
       "{'jsonrpc': '2.0',\n",
       " 'result': '22pNudtUsLv2FYaNBoS44tKuzUa2SN5FUx9Pc2sA9W4WuFfzSgiEnY19G9hKRpV616BPXmVqteYQGtX5EVXmHGZk',\n",
       " 'id': 6}"
      ]
     },
     "execution_count": 466,
     "metadata": {},
     "output_type": "execute_result"
    }
   ],
   "source": [
    "txid = connection.send_transaction(\n",
    "    tx,\n",
    "    feePayer,\n",
    "    counter\n",
    ")\n",
    "\n",
    "txid"
   ]
  },
  {
   "cell_type": "code",
   "execution_count": 468,
   "metadata": {},
   "outputs": [
    {
     "data": {
      "text/plain": [
       "{'jsonrpc': '2.0',\n",
       " 'result': 'MTXMxuFHj9XdWaiyeFbmxGZncwr3hLYkUtiGkFDRRx4g5sbriCrWbAwn4KjsJNDzyjyqsuVbPDw5TjvUYiaZQSs',\n",
       " 'id': 8}"
      ]
     },
     "execution_count": 468,
     "metadata": {},
     "output_type": "execute_result"
    }
   ],
   "source": [
    "# same counter as above, new tx should have ID = \n",
    "# as the conter is already existing\n",
    "tx = Transaction()\n",
    "\n",
    "tx.add(\n",
    "        TransactionInstruction(\n",
    "        keys = [AccountMeta(\n",
    "                pubkey= counterKey, is_signer = False, is_writable= True\n",
    "                )],\n",
    "        program_id=programId,\n",
    "        data=idx\n",
    ")\n",
    ")\n",
    "\n",
    "txid = connection.send_transaction(\n",
    "    tx,\n",
    "    feePayer,\n",
    "    counter\n",
    ")\n",
    "\n",
    "txid"
   ]
  }
 ],
 "metadata": {
  "interpreter": {
   "hash": "c36e5974b4e84b1a7cfb30f2d163ff0b1625555cdff5baed550a7540ae39ba26"
  },
  "kernelspec": {
   "display_name": "Python 3.9.5 ('base')",
   "language": "python",
   "name": "python3"
  },
  "language_info": {
   "codemirror_mode": {
    "name": "ipython",
    "version": 3
   },
   "file_extension": ".py",
   "mimetype": "text/x-python",
   "name": "python",
   "nbconvert_exporter": "python",
   "pygments_lexer": "ipython3",
   "version": "3.9.5"
  },
  "orig_nbformat": 4
 },
 "nbformat": 4,
 "nbformat_minor": 2
}
