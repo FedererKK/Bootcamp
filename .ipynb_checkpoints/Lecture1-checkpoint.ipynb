{
 "cells": [
  {
   "cell_type": "code",
   "execution_count": 8,
   "id": "be949889-95ce-48f8-8b46-cff1a49a13db",
   "metadata": {},
   "outputs": [
    {
     "name": "stdout",
     "output_type": "stream",
     "text": [
      "Collecting pprintpp\n",
      "  Downloading pprintpp-0.4.0-py2.py3-none-any.whl (16 kB)\n",
      "Installing collected packages: pprintpp\n",
      "Successfully installed pprintpp-0.4.0\n"
     ]
    }
   ],
   "source": [
    "!pip install pprintpp"
   ]
  },
  {
   "cell_type": "code",
   "execution_count": 14,
   "id": "ae2f4d61-5815-4dfb-ac29-383298aed092",
   "metadata": {},
   "outputs": [],
   "source": [
    "from pprint import pprint as p\n",
    "import struct\n",
    "from solana.rpc.api import Client\n",
    "from solana.publickey import PublicKey\n",
    "from solana.transaction import Transaction, AccountMeta\n",
    "from base58 import b58encode, b58decode as b58d\n",
    "from base64 import b64decode as b64d\n",
    "\n",
    "b58 = lambda x: b58encode(x).decode('ascii')"
   ]
  },
  {
   "cell_type": "code",
   "execution_count": 15,
   "id": "d1085519-c547-42e3-b15b-83ab88442455",
   "metadata": {},
   "outputs": [],
   "source": [
    "uri = \"http://api.mainnet-beta.solana.com\""
   ]
  },
  {
   "cell_type": "code",
   "execution_count": 16,
   "id": "5803e3d4-55d0-4c3d-a7c8-32a886b98c2f",
   "metadata": {},
   "outputs": [],
   "source": [
    "client = Client(uri)"
   ]
  },
  {
   "cell_type": "code",
   "execution_count": 19,
   "id": "6c1750fc-7ee6-43dd-8abb-b7c13576c7d4",
   "metadata": {},
   "outputs": [],
   "source": [
    "USDr = 'EPjFWdd5AufqSSqeM2qN1xzybapC8G4wEGGkZwyTDt1v'\n",
    "ai = client.get_account_info(USDr)"
   ]
  },
  {
   "cell_type": "code",
   "execution_count": 20,
   "id": "d5e458dd-84c4-484b-b403-81443c5000e3",
   "metadata": {},
   "outputs": [
    {
     "name": "stdout",
     "output_type": "stream",
     "text": [
      "{'id': 2,\n",
      " 'jsonrpc': '2.0',\n",
      " 'result': {'context': {'apiVersion': '1.10.24', 'slot': 136936769},\n",
      "            'value': {'data': ['AQAAABzjWe1aAS4E+hQrnHUaHF6Hz9CgFhuchf/TG3jN/Nj2bFxQN07jEQAGAQEAAAAqnl7btTwEZ5CY/3sSZRcUQ0/AjFYqmjuGEQXmctQicw==',\n",
      "                               'base64'],\n",
      "                      'executable': False,\n",
      "                      'lamports': 122456825965,\n",
      "                      'owner': 'TokenkegQfeZyiNwAJbNbGKPFXCWuBvf9Ss623VQ5DA',\n",
      "                      'rentEpoch': 316}}}\n"
     ]
    }
   ],
   "source": [
    "p(\"hello\")\n",
    "p(ai)"
   ]
  }
 ],
 "metadata": {
  "kernelspec": {
   "display_name": "Python 3",
   "language": "python",
   "name": "python3"
  },
  "language_info": {
   "codemirror_mode": {
    "name": "ipython",
    "version": 3
   },
   "file_extension": ".py",
   "mimetype": "text/x-python",
   "name": "python",
   "nbconvert_exporter": "python",
   "pygments_lexer": "ipython3",
   "version": "3.9.5"
  }
 },
 "nbformat": 4,
 "nbformat_minor": 5
}
